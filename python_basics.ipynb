{
  "nbformat": 4,
  "nbformat_minor": 0,
  "metadata": {
    "colab": {
      "provenance": []
    },
    "kernelspec": {
      "name": "python3",
      "display_name": "Python 3"
    },
    "language_info": {
      "name": "python"
    }
  },
  "cells": [
    {
      "cell_type": "markdown",
      "source": [
        "# Python basics theory question:-  "
      ],
      "metadata": {
        "id": "k837T1CY5UPy"
      }
    },
    {
      "cell_type": "markdown",
      "source": [
        "1. what is python, and why is it popular ?\n",
        "    - python is a programming language. it is popular because there is some reason:- (1) easy of learning and readability\n",
        "    (2) popular choice in data science and machine learning\n",
        "    (3) strong community support\n",
        "    (4) increased developer productivity\n",
        "    (5) versatility and general-purpose nature  etc."
      ],
      "metadata": {
        "id": "Oz5tZPkW_UR3"
      }
    },
    {
      "cell_type": "markdown",
      "source": [
        "2. what is an interpreter in python ?\n",
        "    - interpreter are the computer program that will convert the source code or an high level language into intermediate code(machine level language).it is also called translator in programming terminology."
      ],
      "metadata": {
        "id": "FeRt08fO_UZo"
      }
    },
    {
      "cell_type": "markdown",
      "source": [
        "3. what are pre-defined keywords in python ?\n",
        "    - keywords in python are predefined reserved words with special meanings so the interpreter can understand them.they perform specific tasks in python programming and are a part of its syntax."
      ],
      "metadata": {
        "id": "-sGLmiri_UgZ"
      }
    },
    {
      "cell_type": "markdown",
      "source": [
        "4. can keywords be used as variable names ?\n",
        "    - no, keywords(reserved words with apecific meanings) cannot be used as identifiers(names for variables,functions, etc.)because they are reserved for their predefined purposes by the compiler."
      ],
      "metadata": {
        "id": "jDSQ4VH1_Um5"
      }
    },
    {
      "cell_type": "markdown",
      "source": [
        "5. what is mutability in python ?\n",
        "    - mutable is when something is changeable. in python, mutable is the ability of objects to change their values. These are often the objects that store a collection of data."
      ],
      "metadata": {
        "id": "voAkvvBmURtc"
      }
    },
    {
      "cell_type": "markdown",
      "source": [
        "6. why are lists mutable, but tuples are immutable?\n",
        "    - because after creation list, we can change and  modify in lists's element easly but in the case of tuple we cannot any change and modification in tuple's element after their creation.that's why list is mutable and tuple is immutable."
      ],
      "metadata": {
        "id": "PSftl7l9X1iA"
      }
    },
    {
      "cell_type": "markdown",
      "source": [
        "7. what is the difference between \"==\" and \"is\" operator in python?\n",
        "    - (\"==\"):- it is a comparison operator and it's checks for equality of values.\n",
        "    (\"is\"):- it is a identitity operator and it's checks for object identity(whether two variables point to the same object in memory)."
      ],
      "metadata": {
        "id": "5pTIxr6tX1lw"
      }
    },
    {
      "cell_type": "markdown",
      "source": [
        "8. what are logical operators in python ?\n",
        "    - in python,logical operators are used on conditional statements(either True or False.) they perform logical AND, logical OR, and logical NOT operations."
      ],
      "metadata": {
        "id": "UpLtRdCRePiX"
      }
    },
    {
      "cell_type": "markdown",
      "source": [
        "9. what is type casting in python ?\n",
        "    - Type casting  is the process of converting one data type into another.\n",
        "\n",
        "\n",
        "\n",
        "\n",
        "    "
      ],
      "metadata": {
        "id": "OTpmw1k4irHq"
      }
    },
    {
      "cell_type": "markdown",
      "source": [
        "10. what is the difference between implicit and explicit type casting ?\n",
        "    - (implicit):-In this, method, Python converts the datatype into another datatype automatically. Users don’t have to involve in this process.\n",
        "    - (explicit) :- In this method, Python needs user involvement to convert the variable data type into the required data type. or explicit type casting is the process of converting one data type into another data type forcefully."
      ],
      "metadata": {
        "id": "2yKmcbo4kekR"
      }
    },
    {
      "cell_type": "markdown",
      "source": [
        "11.  What is the purpose of conditional statements in Python ?\n",
        "    - Conditional statements are used to perform different actions based on whether a condition is True or False. They enable decision-making in a program, allowing you to control the flow of execution based on certain conditions."
      ],
      "metadata": {
        "id": "wbQolrf69qyg"
      }
    },
    {
      "cell_type": "markdown",
      "source": [
        "12.  How does the elif statement work ?\n",
        "    - In Python, elif stands for \"else if\" and is used in conditional statements to check for multiple conditions sequentially, after an initial if statement, allowing you to execute different code blocks based on various conditions."
      ],
      "metadata": {
        "id": "ZXrPerLa9q2o"
      }
    },
    {
      "cell_type": "markdown",
      "source": [
        "13.  What is the difference between for and while loops ?\n",
        "    - (for loop):- The for loop is used when you know in advance how many times you want to execute the block of code.\n",
        "It iterates over a sequence (a list, tuple, string, or range) and executes the block of code for each item in the sequence.\n",
        "The loop variable  takes the value of each item in the sequence during each iteration.\n",
        "\n",
        "- (while loop):- The while loop is used when you don't know in advance how many times you want to execute the block of code. It continues to execute as long as the specified condition is true.\n",
        "It's important to make sure that the condition eventually becomes false; otherwise, the loop will run indefinitely, resulting in an infinite loop."
      ],
      "metadata": {
        "id": "cTY3uq80DU2X"
      }
    },
    {
      "cell_type": "markdown",
      "source": [
        "14.  Describe a scenario where a while loop is more suitable than a for loop.\n",
        "    - A while loop is more suitable than a for loop when:\n",
        "\n",
        "You don’t know beforehand how many times the loop needs to run.\n",
        "You want the loop to continue running until a specific condition becomes False\n",
        "\n",
        "example:- magine you're creating a program that asks the user to enter a valid password. The program keeps asking until the user provides a correct password.\n",
        "In this case:\n",
        "You don’t know how many attempts it will take.\n",
        "Therefore, using a while loop is ideal."
      ],
      "metadata": {
        "id": "hzv7uNEsHbjP"
      }
    },
    {
      "cell_type": "markdown",
      "source": [
        "# Python basics Practical Questions"
      ],
      "metadata": {
        "id": "drzdHl0P7BpK"
      }
    },
    {
      "cell_type": "code",
      "source": [
        "#  Q.1 :- Write a Python program to print \"Hello, World!\"\n",
        "print(\"Hello , World!\")"
      ],
      "metadata": {
        "colab": {
          "base_uri": "https://localhost:8080/"
        },
        "id": "Ywk5nkdl7ilR",
        "outputId": "aa73e7b9-050c-4154-acbc-ddcf18db8ab5"
      },
      "execution_count": null,
      "outputs": [
        {
          "output_type": "stream",
          "name": "stdout",
          "text": [
            "Hello , World!\n"
          ]
        }
      ]
    },
    {
      "cell_type": "code",
      "source": [
        "# Q.2 :- Write a Python program that displays your name and age.\n",
        "name = \"sakshi shrivas\"\n",
        "age = 25\n",
        "print(f\"my name is {name} and my age is {age} \")"
      ],
      "metadata": {
        "colab": {
          "base_uri": "https://localhost:8080/"
        },
        "id": "J10MrtpR9BAb",
        "outputId": "0d5b6615-ded2-49bb-dd2e-5e9fc8c8a6b0"
      },
      "execution_count": null,
      "outputs": [
        {
          "output_type": "stream",
          "name": "stdout",
          "text": [
            "my name is sakshi shrivas and my age is 25 \n"
          ]
        }
      ]
    },
    {
      "cell_type": "code",
      "source": [
        "# Q.3 :- Write code to print all the pre-defined keywords in Python using the keyword library.\n",
        "import keyword\n",
        "print(keyword.kwlist)\n",
        "\n"
      ],
      "metadata": {
        "id": "7DZNBVlk-5UJ",
        "colab": {
          "base_uri": "https://localhost:8080/"
        },
        "outputId": "30ba7184-9a12-454c-b3e6-07d9f285cffb"
      },
      "execution_count": null,
      "outputs": [
        {
          "output_type": "stream",
          "name": "stdout",
          "text": [
            "['False', 'None', 'True', 'and', 'as', 'assert', 'async', 'await', 'break', 'class', 'continue', 'def', 'del', 'elif', 'else', 'except', 'finally', 'for', 'from', 'global', 'if', 'import', 'in', 'is', 'lambda', 'nonlocal', 'not', 'or', 'pass', 'raise', 'return', 'try', 'while', 'with', 'yield']\n"
          ]
        }
      ]
    },
    {
      "cell_type": "code",
      "source": [
        "# Q.4:- Write a program that checks if a given word is a Python keyword.\n",
        "import keyword\n",
        "word = input(\"enter a word: \")\n",
        "if keyword.iskeyword(word):\n",
        "  print(f\"'{word}' is python keyword\")\n",
        "else:\n",
        "  print(f\"'{word}' is not a python keyword\")\n"
      ],
      "metadata": {
        "id": "opXsWH96-5X9",
        "colab": {
          "base_uri": "https://localhost:8080/"
        },
        "outputId": "aff96d5f-22c9-4b6a-a858-8cb42d8ff195"
      },
      "execution_count": null,
      "outputs": [
        {
          "output_type": "stream",
          "name": "stdout",
          "text": [
            "enter a word: and\n",
            "'and' is python keyword\n"
          ]
        }
      ]
    },
    {
      "cell_type": "code",
      "source": [
        "# Q.5:- Create a list and tuple in Python, and demonstrate how attempting to change an element works differently for each.\n",
        "list_1 = [1,2.2,\"sakshi\",True,(3+5j)]\n",
        "tuple_1 = (5,9.5,\"suraj\",False,(2+8j))\n",
        "list_1[3] = False # in list we can change or modify element through indexing ,slicing and other method very easly becausse list is mutable data type\n",
        "print(list_1)"
      ],
      "metadata": {
        "id": "SH2phACQ-5cJ",
        "colab": {
          "base_uri": "https://localhost:8080/"
        },
        "outputId": "e43ba509-5d85-43e8-baf2-ec671174fb11"
      },
      "execution_count": null,
      "outputs": [
        {
          "output_type": "stream",
          "name": "stdout",
          "text": [
            "[1, 2.2, 'sakshi', False, (3+5j)]\n"
          ]
        }
      ]
    },
    {
      "cell_type": "code",
      "source": [
        "tuple_1[2] = \"Reena\"\n",
        "print(tuple_1) # in this tuple we cannot change or modify element through indexing , slicing and other method  because this data type is immutable"
      ],
      "metadata": {
        "id": "JrPBf2v1-5lh",
        "colab": {
          "base_uri": "https://localhost:8080/",
          "height": 158
        },
        "outputId": "b709e1c6-bd70-41b4-d168-97504f3910bf"
      },
      "execution_count": null,
      "outputs": [
        {
          "output_type": "error",
          "ename": "TypeError",
          "evalue": "'tuple' object does not support item assignment",
          "traceback": [
            "\u001b[0;31m---------------------------------------------------------------------------\u001b[0m",
            "\u001b[0;31mTypeError\u001b[0m                                 Traceback (most recent call last)",
            "\u001b[0;32m<ipython-input-13-1bda46b102c9>\u001b[0m in \u001b[0;36m<cell line: 0>\u001b[0;34m()\u001b[0m\n\u001b[0;32m----> 1\u001b[0;31m \u001b[0mtuple_1\u001b[0m\u001b[0;34m[\u001b[0m\u001b[0;36m2\u001b[0m\u001b[0;34m]\u001b[0m \u001b[0;34m=\u001b[0m \u001b[0;34m\"Reena\"\u001b[0m\u001b[0;34m\u001b[0m\u001b[0;34m\u001b[0m\u001b[0m\n\u001b[0m\u001b[1;32m      2\u001b[0m \u001b[0mprint\u001b[0m\u001b[0;34m(\u001b[0m\u001b[0mtuple_1\u001b[0m\u001b[0;34m)\u001b[0m\u001b[0;34m\u001b[0m\u001b[0;34m\u001b[0m\u001b[0m\n",
            "\u001b[0;31mTypeError\u001b[0m: 'tuple' object does not support item assignment"
          ]
        }
      ]
    },
    {
      "cell_type": "code",
      "source": [
        "# Q. 6:- Write a function to demonstrate the behavior of mutable and immutable arguments.\n",
        "def behavior_mutable(**mutable_arg):\n",
        "  mutable_arg.update({\"math\": 75})\n",
        "  return mutable_arg\n",
        "\n",
        "behavior_mutable(english = 65, science = 80,hindi = 70)\n",
        "# this function is demonstrate the behavior of mutable arguments it means mutable arguments(list,set, dictionary ) always support modification, adding and removing elements."
      ],
      "metadata": {
        "colab": {
          "base_uri": "https://localhost:8080/"
        },
        "id": "Ppv9gZcDPonf",
        "outputId": "cdd0f27a-6d25-4f10-e653-10a554d17d4b"
      },
      "execution_count": null,
      "outputs": [
        {
          "output_type": "execute_result",
          "data": {
            "text/plain": [
              "{'english': 65, 'science': 80, 'hindi': 70, 'math': 75}"
            ]
          },
          "metadata": {},
          "execution_count": 20
        }
      ]
    },
    {
      "cell_type": "code",
      "source": [
        "def behavior_immutable(immutable_arg):\n",
        "  immutable_arg[0:6] = \"Abhay\"\n",
        "  return immutable_arg\n",
        "\n",
        "behavior_immutable(\"Sakshi shrivas\")\n",
        "# this function is demonstrate the behavior of immutable arguments it means immutable arguments (str,int,float,tuple etc) does not support any modification after their creation."
      ],
      "metadata": {
        "colab": {
          "base_uri": "https://localhost:8080/",
          "height": 332
        },
        "id": "G30ygeJWZ_iY",
        "outputId": "f8a93693-70cf-4a63-c217-093cc3547a5d"
      },
      "execution_count": null,
      "outputs": [
        {
          "output_type": "error",
          "ename": "TypeError",
          "evalue": "'str' object does not support item assignment",
          "traceback": [
            "\u001b[0;31m---------------------------------------------------------------------------\u001b[0m",
            "\u001b[0;31mTypeError\u001b[0m                                 Traceback (most recent call last)",
            "\u001b[0;32m<ipython-input-19-ea2d841da066>\u001b[0m in \u001b[0;36m<cell line: 0>\u001b[0;34m()\u001b[0m\n\u001b[1;32m      3\u001b[0m   \u001b[0;32mreturn\u001b[0m \u001b[0mimmutable_arg\u001b[0m\u001b[0;34m\u001b[0m\u001b[0;34m\u001b[0m\u001b[0m\n\u001b[1;32m      4\u001b[0m \u001b[0;34m\u001b[0m\u001b[0m\n\u001b[0;32m----> 5\u001b[0;31m \u001b[0mbehavior_immutable\u001b[0m\u001b[0;34m(\u001b[0m\u001b[0;34m\"Sakshi shrivas\"\u001b[0m\u001b[0;34m)\u001b[0m\u001b[0;34m\u001b[0m\u001b[0;34m\u001b[0m\u001b[0m\n\u001b[0m\u001b[1;32m      6\u001b[0m \u001b[0;31m# this function is demonstrate the behavior of immutable arguments it means immutable arguments (str,int,float,tuple etc) does not support any modification after their creation.\u001b[0m\u001b[0;34m\u001b[0m\u001b[0;34m\u001b[0m\u001b[0m\n",
            "\u001b[0;32m<ipython-input-19-ea2d841da066>\u001b[0m in \u001b[0;36mbehavior_immutable\u001b[0;34m(immutable_arg)\u001b[0m\n\u001b[1;32m      1\u001b[0m \u001b[0;32mdef\u001b[0m \u001b[0mbehavior_immutable\u001b[0m\u001b[0;34m(\u001b[0m\u001b[0mimmutable_arg\u001b[0m\u001b[0;34m)\u001b[0m\u001b[0;34m:\u001b[0m\u001b[0;34m\u001b[0m\u001b[0;34m\u001b[0m\u001b[0m\n\u001b[0;32m----> 2\u001b[0;31m   \u001b[0mimmutable_arg\u001b[0m\u001b[0;34m[\u001b[0m\u001b[0;36m0\u001b[0m\u001b[0;34m:\u001b[0m\u001b[0;36m6\u001b[0m\u001b[0;34m]\u001b[0m \u001b[0;34m=\u001b[0m \u001b[0;34m\"Abhay\"\u001b[0m\u001b[0;34m\u001b[0m\u001b[0;34m\u001b[0m\u001b[0m\n\u001b[0m\u001b[1;32m      3\u001b[0m   \u001b[0;32mreturn\u001b[0m \u001b[0mimmutable_arg\u001b[0m\u001b[0;34m\u001b[0m\u001b[0;34m\u001b[0m\u001b[0m\n\u001b[1;32m      4\u001b[0m \u001b[0;34m\u001b[0m\u001b[0m\n\u001b[1;32m      5\u001b[0m \u001b[0mbehavior_immutable\u001b[0m\u001b[0;34m(\u001b[0m\u001b[0;34m\"Sakshi shrivas\"\u001b[0m\u001b[0;34m)\u001b[0m\u001b[0;34m\u001b[0m\u001b[0;34m\u001b[0m\u001b[0m\n",
            "\u001b[0;31mTypeError\u001b[0m: 'str' object does not support item assignment"
          ]
        }
      ]
    },
    {
      "cell_type": "code",
      "source": [
        "# Q.8  Write a program to demonstrate the use of logical operators.\n",
        "age = 30\n",
        "salary = 50000\n",
        "\n",
        "if age >= 25 and salary >= 45000: # if 1 condition and 2 condition is True (True and True >> True)\n",
        "  print(\"you are eligible for loan\") # run this block of code\n",
        "else: # if both of condition is False or 1 condition is True and 2 condition is False( False and False >> False, True and False >> False )\n",
        "  print(\"you are not eligible for loan\") # run this block of code\n",
        "  # logical operators are  always used in conditional statement"
      ],
      "metadata": {
        "colab": {
          "base_uri": "https://localhost:8080/"
        },
        "id": "juNDPPLLlzLe",
        "outputId": "c9afb24c-0929-4230-8991-de79ac59d702"
      },
      "execution_count": null,
      "outputs": [
        {
          "output_type": "stream",
          "name": "stdout",
          "text": [
            "you are eligible for loan\n"
          ]
        }
      ]
    },
    {
      "cell_type": "code",
      "source": [
        "age = 22\n",
        "salary = 35000\n",
        "\n",
        "if age >= 25 or salary >= 45000: # if 1 condition True or 2 condition is True (or) 1 condition is True or 2 condition is False (True or True >> True, True or False >> True )\n",
        "  print(\"you are eligible for loan\") # run this block of code\n",
        "else: # if both of condition is False (False or False >> False )\n",
        "  print(\"you are not eligible for loan\") # run this block of code\n",
        "  # logical operators are  always used in conditional statement"
      ],
      "metadata": {
        "id": "i2QCzFIFvnv0",
        "colab": {
          "base_uri": "https://localhost:8080/"
        },
        "outputId": "874c8506-a767-475b-ec19-63621145c48b"
      },
      "execution_count": 15,
      "outputs": [
        {
          "output_type": "stream",
          "name": "stdout",
          "text": [
            "you are not eligible for loan\n"
          ]
        }
      ]
    },
    {
      "cell_type": "code",
      "source": [
        "# Q.9  Write a Python program to convert user input from string to integer, float, and boolean types.\n",
        "Name = input(\"enter your name: \")\n",
        "age = int(input(\"enter your age: \"))\n",
        "graduation_per = float(input(\"enter your percentage : \"))\n",
        "citizenship = bool(input(\"indian: \"))\n",
        "\n",
        "print(f\"My name is {Name}\\nmy age is {age}\\nmy graduation percentage is {graduation_per}\\nmy citizenship is india:- {citizenship}\")\n",
        "\n",
        "print(f\"type of Name is {type(Name)}\\ntype of age is {type(age)}\\ntype of graduation percentage {type(graduation_per)}\\ntype of citizenship {type(citizenship)} \")"
      ],
      "metadata": {
        "id": "bYrLbWo3vnzx",
        "colab": {
          "base_uri": "https://localhost:8080/"
        },
        "outputId": "81bd87f2-6891-4a2b-fbf6-b017ca12bd7b"
      },
      "execution_count": null,
      "outputs": [
        {
          "output_type": "stream",
          "name": "stdout",
          "text": [
            "enter your name: sakshi shrivas \n",
            "enter your age: 25\n",
            "enter your percentage : 76.69\n",
            "indian: True\n",
            "My name is sakshi shrivas \n",
            "my age is 25\n",
            "my graduation percentage is 76.69\n",
            "my citizenship is india:- True\n",
            "type of Name is <class 'str'>\n",
            "type of age is <class 'int'>\n",
            "type of graduation percentage <class 'float'>\n",
            "type of citizenship <class 'bool'> \n"
          ]
        }
      ]
    },
    {
      "cell_type": "code",
      "source": [
        "# Q.10  Write code to demonstrate type casting with list elements.\n",
        "data = ['1','2','3','4.8','5.6',\"sakshi\",\"Reena\"]\n",
        "int_data = []\n",
        "float_data = []\n",
        "for x in data:\n",
        "  if x.isdigit():\n",
        "    int_data.append(int(x))\n",
        "  elif x.replace('.','',1).isdigit():\n",
        "    float_data.append(float(x))\n",
        "\n",
        "print(f\"original list:- {data}\")\n",
        "print(f\"after type casting int list:- {int_data}\")\n",
        "print(f\"after type casting float list:- {float_data}\")\n",
        "\n"
      ],
      "metadata": {
        "id": "rKYxkQN-BXEH",
        "colab": {
          "base_uri": "https://localhost:8080/"
        },
        "outputId": "fa9b04a2-80de-440c-84b9-62a316c7eedb"
      },
      "execution_count": null,
      "outputs": [
        {
          "output_type": "stream",
          "name": "stdout",
          "text": [
            "original list:- ['1', '2', '3', '4.8', '5.6', 'sakshi', 'Reena']\n",
            "after type casting int list:- [1, 2, 3]\n",
            "after type casting float list:- [4.8, 5.6]\n"
          ]
        }
      ]
    },
    {
      "cell_type": "code",
      "source": [
        "# Q.11 Write a program that checks if a number is positive, negative, or zero.\n",
        "num = int(input(\"enter a number:\"))\n",
        "if num > 0:\n",
        "  print(f\"{num} is a positive number\")\n",
        "elif num < 0:\n",
        "  print(f\"{num} is a negative number\")\n",
        "else:\n",
        "  print(f\"{num}is a zero\")\n"
      ],
      "metadata": {
        "colab": {
          "base_uri": "https://localhost:8080/"
        },
        "id": "QhNqUnN0n6ra",
        "outputId": "d8f7f80f-470e-413a-811e-ef64c608f469"
      },
      "execution_count": null,
      "outputs": [
        {
          "output_type": "stream",
          "name": "stdout",
          "text": [
            "enter a number:-35\n",
            "-35 is a negative number\n"
          ]
        }
      ]
    },
    {
      "cell_type": "code",
      "source": [
        "# Q.12 Write a for loop to print numbers from 1 to 10.\n",
        "for i in range(1,11):\n",
        "  print(i)"
      ],
      "metadata": {
        "colab": {
          "base_uri": "https://localhost:8080/"
        },
        "id": "ZdOxQ3hUn63J",
        "outputId": "2ffca09a-4682-49bb-c69d-51d33918d5f6"
      },
      "execution_count": null,
      "outputs": [
        {
          "output_type": "stream",
          "name": "stdout",
          "text": [
            "1\n",
            "2\n",
            "3\n",
            "4\n",
            "5\n",
            "6\n",
            "7\n",
            "8\n",
            "9\n",
            "10\n"
          ]
        }
      ]
    },
    {
      "cell_type": "code",
      "source": [
        "# Q.13 Write a Python program to find the sum of all even numbers between 1 and 50.\n",
        "sum_even = 0\n",
        "for i in range(1,51):\n",
        "  if i%2 == 0:\n",
        "    sum_even = sum_even + i\n",
        "print(f\"The sum of all even numbers between 1 and 50 is: {sum_even}\")"
      ],
      "metadata": {
        "id": "3M9VOdC2n66o",
        "colab": {
          "base_uri": "https://localhost:8080/"
        },
        "outputId": "1d879052-970b-457e-c72b-8c6c5068d20b"
      },
      "execution_count": null,
      "outputs": [
        {
          "output_type": "stream",
          "name": "stdout",
          "text": [
            "The sum of all even numbers between 1 and 50 is: 650\n"
          ]
        }
      ]
    },
    {
      "cell_type": "code",
      "source": [
        "# Q.14 Write a program to reverse a string using a while loop.\n",
        "\n",
        "# Get input from the user\n",
        "text = input(\"Enter a string: \")\n",
        "\n",
        "# Initialize variables\n",
        "reversed_text = \"\"\n",
        "index = len(text) -1\n",
        "\n",
        "# Use while loop to reverse the string\n",
        "while index >= 0:\n",
        "    reversed_text += text[index]\n",
        "    index -= 1\n",
        "\n",
        "# Display the reversed string\n",
        "print(\"Reversed string:\", reversed_text)\n"
      ],
      "metadata": {
        "id": "tfwYNS6Qn6-I",
        "colab": {
          "base_uri": "https://localhost:8080/"
        },
        "outputId": "40876b66-7626-41cd-f5c8-4c241a02c956"
      },
      "execution_count": 4,
      "outputs": [
        {
          "output_type": "stream",
          "name": "stdout",
          "text": [
            "Enter a string: Data analytic\n",
            "Reversed string: citylana ataD\n"
          ]
        }
      ]
    },
    {
      "cell_type": "code",
      "source": [
        "# Q.15  Write a Python program to calculate the factorial of a number provided by the user using a while loop.\n",
        "num = int(input(\"enter a number:\"))\n",
        "factorial = 1\n",
        "i = 1\n",
        "while i<=num:\n",
        "  factorial *= i\n",
        "  i += 1\n",
        "print(f\"the factorial of {num} is {factorial}\")"
      ],
      "metadata": {
        "colab": {
          "base_uri": "https://localhost:8080/"
        },
        "id": "lshpJfdxBHkH",
        "outputId": "cac955a3-bd3f-46b7-add2-51f54254eb6d"
      },
      "execution_count": 13,
      "outputs": [
        {
          "output_type": "stream",
          "name": "stdout",
          "text": [
            "enter a number:6\n",
            "the factorial of 6 is 720\n"
          ]
        }
      ]
    }
  ]
}